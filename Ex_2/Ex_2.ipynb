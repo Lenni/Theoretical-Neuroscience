{
 "cells": [
  {
   "cell_type": "code",
   "execution_count": 4,
   "metadata": {},
   "outputs": [],
   "source": [
    "# global imports\n",
    "import numpy as np\n",
    "from IPython.display import Markdown, display\n",
    "\n",
    "## define parameters\n",
    "n = 1e5                                                       ## number of samples\n",
    "states = np.array([ [0.,0.] , [0.,1.] , [1.,0.] , [1.,1.] ])  ## possible states\n",
    "probs =  np.array([ 1.      , 1.      , 1.      , 2.    ] )   ## rel. probability of states\n",
    "probs /= np.sum(probs)                                        ## normalisation\n",
    "\n",
    "##########################################################################\n",
    "\n",
    "## generate random samples from distribution\n",
    "samples = []\n",
    "for cs in range(int(n)):\n",
    "    l = np.random.rand()\n",
    "    i = 0\n",
    "    while np.sum(probs[:i]) < l:\n",
    "        i += 1\n",
    "    samples += [states[i-1]]\n",
    "samples = np.array(samples)"
   ]
  },
  {
   "cell_type": "code",
   "execution_count": 5,
   "metadata": {},
   "outputs": [],
   "source": [
    "## Empirical Data:"
   ]
  },
  {
   "cell_type": "code",
   "execution_count": 7,
   "metadata": {},
   "outputs": [],
   "source": [
    "mean_z1,mean_z2 = np.sum( samples, axis=0 )/n\n",
    "cov_k = lambda x: [[ x[i]*x[j] for i in range(len(x))] for j in range(len(x)) ]\n",
    "(var_z1, cov_z1z2), (_, var_z2) = np.sum( np.array( list(map( cov_k, samples-mean )) ), axis=0 )/n"
   ]
  },
  {
   "cell_type": "code",
   "execution_count": 8,
   "metadata": {},
   "outputs": [],
   "source": [
    "## Theoretical Data:"
   ]
  },
  {
   "cell_type": "code",
   "execution_count": 9,
   "metadata": {},
   "outputs": [],
   "source": [
    "mean_z1_theo, mean_z2_theo = np.sum( probs[:,None] * states, axis=0 )\n",
    "cov_k = lambda x: [[ x[i]*x[j] for i in range(len(x))] for j in range(len(x)) ]\n",
    "(var_z1_theo, cov_z1z2_theo), (_, var_z2_theo) = np.sum( probs[:,None,None] * np.array( list(map( cov_k, states-mean )) ), axis=0 )"
   ]
  },
  {
   "cell_type": "code",
   "execution_count": 10,
   "metadata": {},
   "outputs": [
    {
     "name": "stdout",
     "output_type": "stream",
     "text": [
      "n = 1.0e+05\n",
      "\n",
      "              \t empirical \t theoretical\n",
      "Mean(z1)    : \t 0.5996      \t 0.6000       \n",
      "Mean(z2)    : \t 0.5998      \t 0.6000       \n",
      "Var(z1)     : \t 0.2401      \t 0.2400       \n",
      "Var(z2)     : \t 0.2400      \t 0.2400       \n",
      "Cov(z1,z2)  : \t 0.0384      \t 0.0400       \n"
     ]
    }
   ],
   "source": [
    "print(\"n = {:.1e}\".format(n))\n",
    "print()\n",
    "print(\"              \\t empirical \\t theoretical\")\n",
    "print(\"Mean(z1)    : \\t {:.4f}      \\t {:.4f}       \".format(mean_z1, mean_z1_theo))\n",
    "print(\"Mean(z2)    : \\t {:.4f}      \\t {:.4f}       \".format(mean_z2, mean_z2_theo))\n",
    "print(\"Var(z1)     : \\t {:.4f}      \\t {:.4f}       \".format(var_z1, var_z1_theo))\n",
    "print(\"Var(z2)     : \\t {:.4f}      \\t {:.4f}       \".format(var_z2, var_z2_theo))\n",
    "print(\"Cov(z1,z2)  : \\t {:.4f}      \\t {:.4f}       \".format(cov_z1z2, cov_z1z2_theo))"
   ]
  },
  {
   "cell_type": "code",
   "execution_count": null,
   "metadata": {},
   "outputs": [],
   "source": []
  }
 ],
 "metadata": {
  "kernelspec": {
   "display_name": "Python 3",
   "language": "python",
   "name": "python3"
  },
  "language_info": {
   "codemirror_mode": {
    "name": "ipython",
    "version": 3
   },
   "file_extension": ".py",
   "mimetype": "text/x-python",
   "name": "python",
   "nbconvert_exporter": "python",
   "pygments_lexer": "ipython3",
   "version": "3.6.9"
  }
 },
 "nbformat": 4,
 "nbformat_minor": 4
}
